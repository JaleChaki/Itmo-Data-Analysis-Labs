{
 "cells": [
  {
   "cell_type": "markdown",
   "id": "fa5bb6b0",
   "metadata": {},
   "source": [
    "## The Movies Dataset TF-IDF Content-Based Recommendation\n",
    "### Сырцев Александр, M34031, 2022"
   ]
  },
  {
   "cell_type": "markdown",
   "id": "fea3bf31",
   "metadata": {},
   "source": [
    "# Задание 1"
   ]
  },
  {
   "cell_type": "code",
   "execution_count": 1,
   "id": "1736c4fd",
   "metadata": {},
   "outputs": [],
   "source": [
    "import pandas as pd\n",
    "import numpy as np"
   ]
  },
  {
   "cell_type": "markdown",
   "id": "c93f2704",
   "metadata": {},
   "source": [
    "загружаем файл movies_metadata"
   ]
  },
  {
   "cell_type": "code",
   "execution_count": 2,
   "id": "8ba91ed1",
   "metadata": {},
   "outputs": [],
   "source": [
    "metadata_dtypes = {'id': 'int64'}\n",
    "metadata = pd.read_csv('movies_metadata.csv', sep=',', dtype=metadata_dtypes, low_memory=False)"
   ]
  },
  {
   "cell_type": "code",
   "execution_count": 3,
   "id": "0d4d12f6",
   "metadata": {
    "scrolled": true
   },
   "outputs": [
    {
     "name": "stdout",
     "output_type": "stream",
     "text": [
      "<class 'pandas.core.frame.DataFrame'>\n",
      "RangeIndex: 45463 entries, 0 to 45462\n",
      "Data columns (total 24 columns):\n",
      " #   Column                 Non-Null Count  Dtype  \n",
      "---  ------                 --------------  -----  \n",
      " 0   adult                  45463 non-null  bool   \n",
      " 1   belongs_to_collection  4491 non-null   object \n",
      " 2   budget                 45463 non-null  int64  \n",
      " 3   genres                 45463 non-null  object \n",
      " 4   homepage               7779 non-null   object \n",
      " 5   id                     45463 non-null  int64  \n",
      " 6   imdb_id                45446 non-null  object \n",
      " 7   original_language      45452 non-null  object \n",
      " 8   original_title         45463 non-null  object \n",
      " 9   overview               44509 non-null  object \n",
      " 10  popularity             45463 non-null  object \n",
      " 11  poster_path            45080 non-null  object \n",
      " 12  production_companies   45463 non-null  object \n",
      " 13  production_countries   45463 non-null  object \n",
      " 14  release_date           45379 non-null  object \n",
      " 15  revenue                45463 non-null  float64\n",
      " 16  runtime                45206 non-null  object \n",
      " 17  spoken_languages       45463 non-null  object \n",
      " 18  status                 45380 non-null  object \n",
      " 19  tagline                20415 non-null  object \n",
      " 20  title                  45463 non-null  object \n",
      " 21  video                  45463 non-null  object \n",
      " 22  vote_average           45463 non-null  float64\n",
      " 23  vote_count             45461 non-null  float64\n",
      "dtypes: bool(1), float64(3), int64(2), object(18)\n",
      "memory usage: 8.0+ MB\n"
     ]
    }
   ],
   "source": [
    "metadata.info()"
   ]
  },
  {
   "cell_type": "markdown",
   "id": "a10b1162",
   "metadata": {},
   "source": [
    "удалим все фильмы с пустым overview"
   ]
  },
  {
   "cell_type": "code",
   "execution_count": 4,
   "id": "12d9a76a",
   "metadata": {
    "scrolled": true
   },
   "outputs": [
    {
     "data": {
      "text/plain": [
       "count                                                 44364\n",
       "unique                                                44303\n",
       "top       King Lear, old and tired, divides his kingdom ...\n",
       "freq                                                      3\n",
       "Name: overview, dtype: object"
      ]
     },
     "execution_count": 4,
     "metadata": {},
     "output_type": "execute_result"
    }
   ],
   "source": [
    "shaped_metadata = metadata\n",
    "selection = shaped_metadata[(shaped_metadata['overview'] == 'No overview found.') | (shaped_metadata['overview'] == 'No Overview') | (shaped_metadata['overview'] == ' ')]\n",
    "shaped_metadata = shaped_metadata.drop(selection.index, axis=0)\n",
    "shaped_metadata['overview'].describe()"
   ]
  },
  {
   "cell_type": "markdown",
   "id": "110dda61",
   "metadata": {},
   "source": [
    "# Задание 2\n",
    "оставим только колонки 'id', 'imdb_id', 'overview', 'title'"
   ]
  },
  {
   "cell_type": "code",
   "execution_count": 5,
   "id": "391955f3",
   "metadata": {
    "scrolled": true
   },
   "outputs": [
    {
     "name": "stdout",
     "output_type": "stream",
     "text": [
      "<class 'pandas.core.frame.DataFrame'>\n",
      "Int64Index: 45318 entries, 0 to 45462\n",
      "Data columns (total 4 columns):\n",
      " #   Column    Non-Null Count  Dtype \n",
      "---  ------    --------------  ----- \n",
      " 0   id        45318 non-null  int64 \n",
      " 1   imdb_id   45301 non-null  object\n",
      " 2   overview  44364 non-null  object\n",
      " 3   title     45318 non-null  object\n",
      "dtypes: int64(1), object(3)\n",
      "memory usage: 1.7+ MB\n"
     ]
    }
   ],
   "source": [
    "shaped_metadata2 = shaped_metadata.drop(['adult', 'belongs_to_collection', 'budget', 'homepage', 'original_language', 'original_title', 'popularity', 'poster_path', 'production_companies', 'production_countries', 'release_date', 'revenue', 'runtime', 'spoken_languages', 'status', 'tagline', 'video', 'vote_average', 'vote_count', 'genres'], axis=1)\n",
    "shaped_metadata2.info()"
   ]
  },
  {
   "cell_type": "markdown",
   "id": "8d23447b",
   "metadata": {},
   "source": [
    "Выведем случайные 10 строк"
   ]
  },
  {
   "cell_type": "code",
   "execution_count": 6,
   "id": "2804c634",
   "metadata": {},
   "outputs": [
    {
     "name": "stdout",
     "output_type": "stream",
     "text": [
      "           id    imdb_id                                           overview  \\\n",
      "22920   22259  tt1473345  Once the ruler of an entire universe, the Grea...   \n",
      "42987  128284  tt0020321  A beautiful and evocative portrait of Ivens' n...   \n",
      "38529   40713  tt1194664  During her freshman year in high school, Mika ...   \n",
      "27019   95004  tt0021931  An acclaimed actor and his equally acclaimed a...   \n",
      "34278  100783  tt2290845  Yedyanchi Jatra is an enjoyable portrayal of h...   \n",
      "16505   57448  tt1606382  A documentary on the relationship between fash...   \n",
      "18692  119364  tt0072249  A policeman in New Mexico takes payoff money b...   \n",
      "5595    10863  tt0082351  A ruthless German spy, trying to get out of Br...   \n",
      "7933    36627  tt0072021  Following With Fire and Sword', this is an ada...   \n",
      "23275  210479  tt2692904  Ivan Locke has worked hard to craft a good lif...   \n",
      "\n",
      "                             title  \n",
      "22920  Bionicle: The Legend Reborn  \n",
      "42987                         Rain  \n",
      "38529                  Sky Of Love  \n",
      "27019                The Guardsman  \n",
      "34278              Yedyanchi Jatra  \n",
      "16505                  L'amour fou  \n",
      "18692                     The Take  \n",
      "5595             Eye of the Needle  \n",
      "7933                    The Deluge  \n",
      "23275                        Locke  \n"
     ]
    }
   ],
   "source": [
    "samples = shaped_metadata2.sample(n=10)\n",
    "print(samples)"
   ]
  },
  {
   "cell_type": "markdown",
   "id": "838bf59b",
   "metadata": {},
   "source": [
    "# Задание 3"
   ]
  },
  {
   "cell_type": "markdown",
   "id": "7bda69fc",
   "metadata": {},
   "source": [
    "загружаем данные, убеждаемся в отсутсвии пропусков"
   ]
  },
  {
   "cell_type": "code",
   "execution_count": 7,
   "id": "6baa1fb3",
   "metadata": {},
   "outputs": [
    {
     "name": "stdout",
     "output_type": "stream",
     "text": [
      "<class 'pandas.core.frame.DataFrame'>\n",
      "RangeIndex: 26024289 entries, 0 to 26024288\n",
      "Data columns (total 4 columns):\n",
      " #   Column     Dtype  \n",
      "---  ------     -----  \n",
      " 0   userId     int64  \n",
      " 1   movieId    int64  \n",
      " 2   rating     float64\n",
      " 3   timestamp  int64  \n",
      "dtypes: float64(1), int64(3)\n",
      "memory usage: 794.2 MB\n"
     ]
    }
   ],
   "source": [
    "ratings = pd.read_csv(\"ratings.csv\")\n",
    "ratings.head(10)\n",
    "ratings.info()"
   ]
  },
  {
   "cell_type": "code",
   "execution_count": 8,
   "id": "e47258c4",
   "metadata": {
    "scrolled": true
   },
   "outputs": [
    {
     "data": {
      "text/plain": [
       "userId       0\n",
       "movieId      0\n",
       "rating       0\n",
       "timestamp    0\n",
       "dtype: int64"
      ]
     },
     "execution_count": 8,
     "metadata": {},
     "output_type": "execute_result"
    }
   ],
   "source": [
    "pd.isnull(ratings).sum()"
   ]
  },
  {
   "cell_type": "markdown",
   "id": "6747c456",
   "metadata": {},
   "source": [
    "Склеим 2 датасета"
   ]
  },
  {
   "cell_type": "code",
   "execution_count": 9,
   "id": "254d108f",
   "metadata": {},
   "outputs": [
    {
     "name": "stdout",
     "output_type": "stream",
     "text": [
      "<class 'pandas.core.frame.DataFrame'>\n",
      "Int64Index: 11402375 entries, 0 to 11402374\n",
      "Data columns (total 8 columns):\n",
      " #   Column     Dtype  \n",
      "---  ------     -----  \n",
      " 0   id         int64  \n",
      " 1   imdb_id    object \n",
      " 2   overview   object \n",
      " 3   title      object \n",
      " 4   userId     int64  \n",
      " 5   movieId    int64  \n",
      " 6   rating     float64\n",
      " 7   timestamp  int64  \n",
      "dtypes: float64(1), int64(4), object(3)\n",
      "memory usage: 782.9+ MB\n"
     ]
    }
   ],
   "source": [
    "superset = pd.merge(shaped_metadata2, ratings, left_on='id', right_on='movieId')\n",
    "superset.info()"
   ]
  },
  {
   "cell_type": "markdown",
   "id": "c698a2a8",
   "metadata": {},
   "source": [
    "# Задание 4"
   ]
  },
  {
   "cell_type": "markdown",
   "id": "ce680fe4",
   "metadata": {},
   "source": [
    "Посчитаем пропуски в получившемся датасете"
   ]
  },
  {
   "cell_type": "code",
   "execution_count": 30,
   "id": "751e6592",
   "metadata": {},
   "outputs": [
    {
     "data": {
      "text/plain": [
       "id               0\n",
       "imdb_id         47\n",
       "overview     40657\n",
       "title            0\n",
       "userId           0\n",
       "movieId          0\n",
       "rating           0\n",
       "timestamp        0\n",
       "dtype: int64"
      ]
     },
     "execution_count": 30,
     "metadata": {},
     "output_type": "execute_result"
    }
   ],
   "source": [
    "pd.isnull(superset).sum()"
   ]
  },
  {
   "cell_type": "markdown",
   "id": "7abe93ad",
   "metadata": {},
   "source": [
    "Они существуют, посмотрим на наличие пропусков в датасете из задания 2"
   ]
  },
  {
   "cell_type": "code",
   "execution_count": 32,
   "id": "7f50b06d",
   "metadata": {},
   "outputs": [
    {
     "data": {
      "text/plain": [
       "id            0\n",
       "imdb_id      17\n",
       "overview    954\n",
       "title         0\n",
       "dtype: int64"
      ]
     },
     "execution_count": 32,
     "metadata": {},
     "output_type": "execute_result"
    }
   ],
   "source": [
    "pd.isnull(shaped_metadata2).sum()"
   ]
  },
  {
   "cell_type": "markdown",
   "id": "51eca616",
   "metadata": {},
   "source": [
    "Получается, что пропуски появились потому что они были в датасете из второго задания. Удалим их:"
   ]
  },
  {
   "cell_type": "code",
   "execution_count": 35,
   "id": "3681f138",
   "metadata": {},
   "outputs": [
    {
     "data": {
      "text/plain": [
       "id           0\n",
       "imdb_id      0\n",
       "overview     0\n",
       "title        0\n",
       "userId       0\n",
       "movieId      0\n",
       "rating       0\n",
       "timestamp    0\n",
       "dtype: int64"
      ]
     },
     "execution_count": 35,
     "metadata": {},
     "output_type": "execute_result"
    }
   ],
   "source": [
    "clean_superset = superset.dropna()\n",
    "pd.isnull(clean_superset).sum()"
   ]
  },
  {
   "cell_type": "markdown",
   "id": "80651640",
   "metadata": {},
   "source": [
    "Выведем размеры получившегося датасета"
   ]
  },
  {
   "cell_type": "code",
   "execution_count": 36,
   "id": "316124bc",
   "metadata": {},
   "outputs": [
    {
     "name": "stdout",
     "output_type": "stream",
     "text": [
      "<class 'pandas.core.frame.DataFrame'>\n",
      "Int64Index: 11361671 entries, 0 to 11402374\n",
      "Data columns (total 8 columns):\n",
      " #   Column     Dtype  \n",
      "---  ------     -----  \n",
      " 0   id         int64  \n",
      " 1   imdb_id    object \n",
      " 2   overview   object \n",
      " 3   title      object \n",
      " 4   userId     int64  \n",
      " 5   movieId    int64  \n",
      " 6   rating     float64\n",
      " 7   timestamp  int64  \n",
      "dtypes: float64(1), int64(4), object(3)\n",
      "memory usage: 780.1+ MB\n"
     ]
    }
   ],
   "source": [
    "clean_superset.info()"
   ]
  },
  {
   "cell_type": "markdown",
   "id": "702620b3",
   "metadata": {},
   "source": [
    "И 10 случайных записей"
   ]
  },
  {
   "cell_type": "code",
   "execution_count": 37,
   "id": "cc8ec5b1",
   "metadata": {},
   "outputs": [
    {
     "name": "stdout",
     "output_type": "stream",
     "text": [
      "              id    imdb_id  \\\n",
      "5549120     2470  tt0103791   \n",
      "5650970      296  tt0181852   \n",
      "4145404      318  tt0120753   \n",
      "10231572  107916  tt2177509   \n",
      "8221056       58  tt0383574   \n",
      "9973911    25855  tt1551621   \n",
      "1840369     4995  tt0118749   \n",
      "8888920    81847  tt0020815   \n",
      "1640355      364  tt0103776   \n",
      "11057247  104374  tt0060787   \n",
      "\n",
      "                                                   overview  \\\n",
      "5549120   In 1931, a young soldier deserts from the army...   \n",
      "5650970   It's been 10 years since John Connor saved Ear...   \n",
      "4145404   The Million Dollar Hotel starts with a jump fr...   \n",
      "10231572  Carmina, 58, runs a shop selling Iberian produ...   \n",
      "8221056   Captain Jack Sparrow works his way out of a bl...   \n",
      "9973911   A violent gang is abducting and killing women ...   \n",
      "1840369   Set in 1977, back when sex was safe, pleasure ...   \n",
      "8888920   World War I ace Dick Courtney derides the lead...   \n",
      "1640355   Having defeated the Joker, Batman now faces th...   \n",
      "11057247  A married woman lets her lover take naked pict...   \n",
      "\n",
      "                                               title  userId  movieId  rating  \\\n",
      "5549120                                 Belle Époque   14291     2470     2.0   \n",
      "5650970           Terminator 3: Rise of the Machines  170346      296     5.0   \n",
      "4145404                     The Million Dollar Hotel  168732      318     5.0   \n",
      "10231572                          Carmina or Blow Up  125895   107916     2.5   \n",
      "8221056   Pirates of the Caribbean: Dead Man's Chest   98594       58     5.0   \n",
      "9973911                               Raging Phoenix   13841    25855     3.0   \n",
      "1840369                                Boogie Nights   25858     4995     4.5   \n",
      "8888920                              The Dawn Patrol  128925    81847     4.0   \n",
      "1640355                               Batman Returns  173464      364     3.5   \n",
      "11057247                           Woman of the Lake  204934   104374     4.0   \n",
      "\n",
      "           timestamp  \n",
      "5549120    959811623  \n",
      "5650970   1146840738  \n",
      "4145404   1495036329  \n",
      "10231572  1448400624  \n",
      "8221056    853761734  \n",
      "9973911   1130132230  \n",
      "1840369   1233266169  \n",
      "8888920   1441014917  \n",
      "1640355   1190322382  \n",
      "11057247  1447082857  \n"
     ]
    }
   ],
   "source": [
    "superset_samples = clean_superset.sample(n=10)\n",
    "print(superset_samples)"
   ]
  }
 ],
 "metadata": {
  "kernelspec": {
   "display_name": "Python 3 (ipykernel)",
   "language": "python",
   "name": "python3"
  },
  "language_info": {
   "codemirror_mode": {
    "name": "ipython",
    "version": 3
   },
   "file_extension": ".py",
   "mimetype": "text/x-python",
   "name": "python",
   "nbconvert_exporter": "python",
   "pygments_lexer": "ipython3",
   "version": "3.10.4"
  }
 },
 "nbformat": 4,
 "nbformat_minor": 5
}
